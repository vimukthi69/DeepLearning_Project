{
 "cells": [
  {
   "cell_type": "markdown",
   "source": [
    "## Importing Libraries"
   ],
   "metadata": {
    "collapsed": false
   }
  },
  {
   "cell_type": "code",
   "execution_count": 1,
   "outputs": [],
   "source": [
    "import json\n",
    "import pandas as pd\n",
    "import matplotlib.pyplot as plt\n",
    "from sklearn.preprocessing import LabelEncoder"
   ],
   "metadata": {
    "collapsed": false
   }
  },
  {
   "cell_type": "markdown",
   "source": [
    "## Data Preprocessing\n",
    "##### This includes data loading, data transformation and feature extraction"
   ],
   "metadata": {
    "collapsed": false
   }
  },
  {
   "cell_type": "code",
   "execution_count": null,
   "outputs": [],
   "source": [
    "# Specifying file paths\n",
    "json_file = open('C:/Users/vimuk/DL_cw_2/yelp_academic_dataset_review.json', 'r', encoding='utf-8')\n",
    "csv_file = \"resources/pre_processed_reviews.csv\"\n",
    "model1_csv_file = \"resources/model2.csv\"\n",
    "\n",
    "# Define a function to process a single JSON object\n",
    "def pre_process_json():\n",
    "    object_count = 0\n",
    "    for line in json_file:\n",
    "        try:\n",
    "\n",
    "            if object_count == 1000000:\n",
    "                break\n",
    "\n",
    "            # Converting each JSON object into the valid JSON format\n",
    "            data = json.loads(line)\n",
    "\n",
    "            # Data Transformation\n",
    "            stars = int(data['stars'])\n",
    "            useful = int(data['useful'])\n",
    "            funny = int(data['funny'])\n",
    "            cool = int(data['cool'])\n",
    "            text = str(data['text'])\n",
    "\n",
    "            # feature extraction\n",
    "            neutral = funny + cool\n",
    "\n",
    "            if useful == 0 or funny == 0 or cool == 0:\n",
    "                continue\n",
    "            else:\n",
    "                sentiment_list = [useful, neutral]\n",
    "                sentiment = sentiment_list.index(max(sentiment_list))\n",
    "                if stars >= 3 and sentiment == 0:\n",
    "                    reaction = 'satisfied considerable comment'\n",
    "                elif stars >= 3 and sentiment == 1:\n",
    "                    reaction = 'satisfied neutral comment'\n",
    "                elif stars < 3 and sentiment == 0:\n",
    "                    reaction = 'unsatisfied considerable comment'\n",
    "                elif stars < 3 and sentiment == 1:\n",
    "                    reaction = 'unsatisfied neutral comment'\n",
    "\n",
    "            data = {'text': [text], 'reaction': [reaction]}\n",
    "            df = pd.DataFrame(data)\n",
    "\n",
    "            # Append the data to the CSV file\n",
    "            if object_count == 0:\n",
    "                df.to_csv(csv_file, index=False)\n",
    "            else:\n",
    "                df.to_csv(csv_file, mode='a', header=False, index=False)\n",
    "\n",
    "            print(object_count)\n",
    "            object_count += 1\n",
    "\n",
    "        except json.JSONDecodeError as e:\n",
    "            print(f\"Error decoding JSON: {e}\")\n",
    "            continue\n",
    "\n",
    "# Call the processing function\n",
    "pre_process_json()\n",
    "\n",
    "# Close the JSON file\n",
    "json_file.close()"
   ],
   "metadata": {
    "collapsed": false,
    "pycharm": {
     "is_executing": true
    }
   }
  },
  {
   "cell_type": "markdown",
   "source": [
    "## Data Visualization"
   ],
   "metadata": {
    "collapsed": false
   },
   "execution_count": 1
  },
  {
   "cell_type": "code",
   "execution_count": 3,
   "outputs": [
    {
     "data": {
      "text/plain": "                                                text  \\\n0  I am a long term frequent customer of this est...   \n1  HOLY SMOKES!\\n\\nactual pumpkin pie mixed in wi...   \n2  I thoroughly enjoyed the show.  Chill way to s...   \n3  On a scale of one to things that are awesome, ...   \n4  I've only had the cannolis here but they are a...   \n\n                         reaction  \n0     unsatisfied neutral comment  \n1       satisfied neutral comment  \n2       satisfied neutral comment  \n3  satisfied considerable comment  \n4       satisfied neutral comment  ",
      "text/html": "<div>\n<style scoped>\n    .dataframe tbody tr th:only-of-type {\n        vertical-align: middle;\n    }\n\n    .dataframe tbody tr th {\n        vertical-align: top;\n    }\n\n    .dataframe thead th {\n        text-align: right;\n    }\n</style>\n<table border=\"1\" class=\"dataframe\">\n  <thead>\n    <tr style=\"text-align: right;\">\n      <th></th>\n      <th>text</th>\n      <th>reaction</th>\n    </tr>\n  </thead>\n  <tbody>\n    <tr>\n      <th>0</th>\n      <td>I am a long term frequent customer of this est...</td>\n      <td>unsatisfied neutral comment</td>\n    </tr>\n    <tr>\n      <th>1</th>\n      <td>HOLY SMOKES!\\n\\nactual pumpkin pie mixed in wi...</td>\n      <td>satisfied neutral comment</td>\n    </tr>\n    <tr>\n      <th>2</th>\n      <td>I thoroughly enjoyed the show.  Chill way to s...</td>\n      <td>satisfied neutral comment</td>\n    </tr>\n    <tr>\n      <th>3</th>\n      <td>On a scale of one to things that are awesome, ...</td>\n      <td>satisfied considerable comment</td>\n    </tr>\n    <tr>\n      <th>4</th>\n      <td>I've only had the cannolis here but they are a...</td>\n      <td>satisfied neutral comment</td>\n    </tr>\n  </tbody>\n</table>\n</div>"
     },
     "execution_count": 3,
     "metadata": {},
     "output_type": "execute_result"
    }
   ],
   "source": [
    "# loading data into pandas dataframe\n",
    "df = pd.read_csv(csv_file)\n",
    "df.head(5)"
   ],
   "metadata": {
    "collapsed": false
   }
  },
  {
   "cell_type": "code",
   "execution_count": 4,
   "outputs": [
    {
     "data": {
      "text/plain": "<Figure size 600x400 with 1 Axes>",
      "image/png": "[encoded data removed]"
     },
     "metadata": {},
     "output_type": "display_data"
    }
   ],
   "source": [
    "# Plotting the dataframe\n",
    "plt.figure(figsize=(6, 4))\n",
    "df['reaction'].value_counts().sort_index().plot(kind='bar', color='skyblue')\n",
    "plt.title('Distribution of Reactions')\n",
    "plt.xlabel('Reaction')\n",
    "plt.ylabel('Count')\n",
    "plt.show()"
   ],
   "metadata": {
    "collapsed": false
   }
  },
  {
   "cell_type": "code",
   "execution_count": 4,
   "outputs": [
    {
     "name": "stdout",
     "output_type": "stream",
     "text": [
      "                                    text          \\\n",
      "                                   count  unique   \n",
      "reaction                                           \n",
      "satisfied considerable comment    194543  194484   \n",
      "satisfied neutral comment         335511  335359   \n",
      "unsatisfied considerable comment   62817   62795   \n",
      "unsatisfied neutral comment        47846   47824   \n",
      "\n",
      "                                                                                     \\\n",
      "                                                                                top   \n",
      "reaction                                                                              \n",
      "satisfied considerable comment    Overrated tourist trap. Go there as a check th...   \n",
      "satisfied neutral comment         I personally love the service at Publix. They ...   \n",
      "unsatisfied considerable comment  I would just like to reiterate the fact that t...   \n",
      "unsatisfied neutral comment       Should be a - star option. We arrive at 8:50 p...   \n",
      "\n",
      "                                       \n",
      "                                 freq  \n",
      "reaction                               \n",
      "satisfied considerable comment      2  \n",
      "satisfied neutral comment           3  \n",
      "unsatisfied considerable comment    3  \n",
      "unsatisfied neutral comment         3  \n"
     ]
    }
   ],
   "source": [
    "print(df.groupby('reaction').describe())"
   ],
   "metadata": {
    "collapsed": false
   }
  },
  {
   "cell_type": "markdown",
   "source": [
    "## Data Balancing\n",
    "##### Here we have used down sampling technique to get an equal and balanced dataset"
   ],
   "metadata": {
    "collapsed": false
   }
  },
  {
   "cell_type": "code",
   "execution_count": 5,
   "outputs": [
    {
     "name": "stdout",
     "output_type": "stream",
     "text": [
      "(47846, 2)\n"
     ]
    }
   ],
   "source": [
    "# creating different dataframes for different reactions\n",
    "df_satisfied_considerable = df[df['reaction'] == 'satisfied considerable comment']\n",
    "df_satisfied_neutral = df[df['reaction'] == 'satisfied neutral comment']\n",
    "df_unsatisfied_considerable = df[df['reaction'] == 'unsatisfied considerable comment']\n",
    "df_unsatisfied_neutral = df[df['reaction'] == 'unsatisfied neutral comment']\n",
    "print(df_unsatisfied_neutral.shape)"
   ],
   "metadata": {
    "collapsed": false
   }
  },
  {
   "cell_type": "code",
   "execution_count": 6,
   "outputs": [
    {
     "name": "stdout",
     "output_type": "stream",
     "text": [
      "(191384, 2)\n",
      "reaction\n",
      "satisfied considerable comment      47846\n",
      "unsatisfied considerable comment    47846\n",
      "satisfied neutral comment           47846\n",
      "unsatisfied neutral comment         47846\n",
      "Name: count, dtype: int64\n"
     ]
    }
   ],
   "source": [
    "# Down Sampling\n",
    "df_satisfied_considerable_downsampled = df_satisfied_considerable.sample(df_unsatisfied_neutral.shape[0])\n",
    "df_unsatisfied_considerable_downsampled = df_unsatisfied_considerable.sample(df_unsatisfied_neutral.shape[0])\n",
    "df_satisfied_neutral_downsampled = df_satisfied_neutral.sample(df_unsatisfied_neutral.shape[0])\n",
    "df_unsatisfied_neutral_downsampled = df_unsatisfied_neutral.sample(df_unsatisfied_neutral.shape[0])\n",
    "\n",
    "df_balanced = pd.concat([df_satisfied_considerable_downsampled, df_unsatisfied_considerable_downsampled, df_satisfied_neutral_downsampled, df_unsatisfied_neutral_downsampled])\n",
    "print(df_balanced.shape)\n",
    "print(df_balanced['reaction'].value_counts())"
   ],
   "metadata": {
    "collapsed": false
   }
  },
  {
   "cell_type": "markdown",
   "source": [
    "## Constructing the Target Variable\n",
    "##### Here we are using label encoding to represent target variable in numeric format"
   ],
   "metadata": {
    "collapsed": false
   }
  },
  {
   "cell_type": "code",
   "execution_count": 7,
   "outputs": [
    {
     "name": "stdout",
     "output_type": "stream",
     "text": [
      "                                                     text  \\\n",
      "350574  Slow as snail service.  The Scotch Eggs were t...   \n",
      "532117  Closed!\\n\\nFirst they stop serving lunch, I th...   \n",
      "226826  Excellent sushi restaurant that was formerly n...   \n",
      "531819  Looong wait to be seated....with tons of empty...   \n",
      "31887   Gets the job done.\\n\\nIf you're looking for a ...   \n",
      "303932  I really like this place, however, do not go i...   \n",
      "369190  I\"m in Philly visiting and my cousin told me a...   \n",
      "67813   I must have came on an off day, or just had an...   \n",
      "127668  Come armed with a DFWM (\"Don't F*ck With Me\") ...   \n",
      "369713  Not many flavor choices and in my opinion weir...   \n",
      "551432  There has been something that has been botheri...   \n",
      "217017  Food is ok, cheap furniture, awkward service\\n...   \n",
      "363566  Wow! Who knew that healthy food could taste so...   \n",
      "276731  A Groupon offer inspired us to test the waters...   \n",
      "236732  From a vacant hole in the earth at the spot th...   \n",
      "585280  Weights...check.\\nAdequate cardio equipment......   \n",
      "268892  Two years ago when my husband was interviewing...   \n",
      "326636  We bought a resturant.com voucher for this pla...   \n",
      "612633  My partner and I have decided to finally bite ...   \n",
      "344926  I would give no stars if possible. This has be...   \n",
      "315466  We showed up to Walt'z at 5:00 sharp, their op...   \n",
      "507578  My friend had been here before mysterious \"gas...   \n",
      "566621  It's Buca... they're all the same.  Over the t...   \n",
      "6513    A Lot of HYPE.. Very Little TRUTH\\n\\nI had hea...   \n",
      "556689  Overall, I like the Zamzows stores. Unfortunat...   \n",
      "513669  My boyfriend and I stopped at this food truck ...   \n",
      "490563  I live in the neighborhood and have been going...   \n",
      "411747  I celebrated a milestone birthday at 404 this ...   \n",
      "30166   Great place to meet friends for a meal, and ma...   \n",
      "1242    Just tried the newly opened Wheel Cafe in Dune...   \n",
      "366393  This Warby Parker was awesome! I love that the...   \n",
      "412385  Highly disappointing experience for takeout. O...   \n",
      "600883  Really funny story!\\n\\nSo we went down to Phil...   \n",
      "13097   I've been to Reeds several times now and I can...   \n",
      "338600  Not the best first impression. They were out o...   \n",
      "305905  Just wanted to give a heads up to anyone that ...   \n",
      "2601    This place was awesome! I was really craving r...   \n",
      "555898  Many of my co-workers RAVE about The Good Lion...   \n",
      "367320  My friend was asked to leave his backpack at t...   \n",
      "89772   I can't believe this place is in Riverside! Go...   \n",
      "55285   Worse customer service from the bartender Maur...   \n",
      "86543   So far so good huge place and very nice and cl...   \n",
      "246230  Dangitt. I was SO excited about this place! I ...   \n",
      "66321   The best thing about this restaurant is that i...   \n",
      "440088  Waited at the bar for 10 min.  There were more...   \n",
      "598367  I sent my 83-year-old mother and sister to La ...   \n",
      "66413   This is one of the worst ranges I've ever visi...   \n",
      "635169  Stopped in here on a trek around the city. I h...   \n",
      "90860   I'm only giving this restaurant one star becau...   \n",
      "502632  One time my boss referred to Flagg's as \"flowe...   \n",
      "\n",
      "                                reaction  encoded_reaction  \n",
      "350574       unsatisfied neutral comment                 3  \n",
      "532117    satisfied considerable comment                 0  \n",
      "226826    satisfied considerable comment                 0  \n",
      "531819  unsatisfied considerable comment                 2  \n",
      "31887          satisfied neutral comment                 1  \n",
      "303932    satisfied considerable comment                 0  \n",
      "369190    satisfied considerable comment                 0  \n",
      "67813        unsatisfied neutral comment                 3  \n",
      "127668       unsatisfied neutral comment                 3  \n",
      "369713       unsatisfied neutral comment                 3  \n",
      "551432  unsatisfied considerable comment                 2  \n",
      "217017       unsatisfied neutral comment                 3  \n",
      "363566    satisfied considerable comment                 0  \n",
      "276731    satisfied considerable comment                 0  \n",
      "236732         satisfied neutral comment                 1  \n",
      "585280  unsatisfied considerable comment                 2  \n",
      "268892         satisfied neutral comment                 1  \n",
      "326636       unsatisfied neutral comment                 3  \n",
      "612633         satisfied neutral comment                 1  \n",
      "344926  unsatisfied considerable comment                 2  \n",
      "315466  unsatisfied considerable comment                 2  \n",
      "507578  unsatisfied considerable comment                 2  \n",
      "566621       unsatisfied neutral comment                 3  \n",
      "6513         unsatisfied neutral comment                 3  \n",
      "556689  unsatisfied considerable comment                 2  \n",
      "513669    satisfied considerable comment                 0  \n",
      "490563       unsatisfied neutral comment                 3  \n",
      "411747    satisfied considerable comment                 0  \n",
      "30166          satisfied neutral comment                 1  \n",
      "1242         unsatisfied neutral comment                 3  \n",
      "366393         satisfied neutral comment                 1  \n",
      "412385  unsatisfied considerable comment                 2  \n",
      "600883    satisfied considerable comment                 0  \n",
      "13097          satisfied neutral comment                 1  \n",
      "338600       unsatisfied neutral comment                 3  \n",
      "305905  unsatisfied considerable comment                 2  \n",
      "2601           satisfied neutral comment                 1  \n",
      "555898         satisfied neutral comment                 1  \n",
      "367320  unsatisfied considerable comment                 2  \n",
      "89772     satisfied considerable comment                 0  \n",
      "55285        unsatisfied neutral comment                 3  \n",
      "86543     satisfied considerable comment                 0  \n",
      "246230    satisfied considerable comment                 0  \n",
      "66321        unsatisfied neutral comment                 3  \n",
      "440088       unsatisfied neutral comment                 3  \n",
      "598367         satisfied neutral comment                 1  \n",
      "66413   unsatisfied considerable comment                 2  \n",
      "635169         satisfied neutral comment                 1  \n",
      "90860        unsatisfied neutral comment                 3  \n",
      "502632         satisfied neutral comment                 1  \n"
     ]
    }
   ],
   "source": [
    "# Label Encoding\n",
    "label_encoder = LabelEncoder()\n",
    "df_balanced['encoded_reaction'] = label_encoder.fit_transform(df_balanced['reaction'])\n",
    "print(df_balanced.sample(50))"
   ],
   "metadata": {
    "collapsed": false
   }
  },
  {
   "cell_type": "code",
   "execution_count": 8,
   "outputs": [],
   "source": [
    "# Writing into csv file\n",
    "model2_csv_file = \"resources/model1.csv\"\n",
    "df_balanced.to_csv(model2_csv_file, index=False)"
   ],
   "metadata": {
    "collapsed": false
   }
  }
 ],
 "metadata": {
  "kernelspec": {
   "display_name": "Python 3",
   "language": "python",
   "name": "python3"
  },
  "language_info": {
   "codemirror_mode": {
    "name": "ipython",
    "version": 2
   },
   "file_extension": ".py",
   "mimetype": "text/x-python",
   "name": "python",
   "nbconvert_exporter": "python",
   "pygments_lexer": "ipython2",
   "version": "2.7.6"
  }
 },
 "nbformat": 4,
 "nbformat_minor": 0
}
