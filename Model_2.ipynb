{
 "cells": [
  {
   "cell_type": "markdown",
   "source": [
    "## Importing Libraries"
   ],
   "metadata": {
    "collapsed": false
   }
  },
  {
   "cell_type": "code",
   "execution_count": 4,
   "outputs": [],
   "source": [
    "import pandas as pd\n",
    "import matplotlib.pyplot as plt\n",
    "from sklearn.model_selection import train_test_split\n",
    "import tensorflow as tf\n",
    "import tensorflow_hub as hub\n",
    "from tensorflow import keras\n",
    "from sklearn.metrics import classification_report, confusion_matrix\n",
    "import tensorflow_text as text\n",
    "import numpy as np\n",
    "import seaborn as sn"
   ],
   "metadata": {
    "collapsed": false
   }
  },
  {
   "cell_type": "markdown",
   "source": [
    "##### Creating environment to train the model"
   ],
   "metadata": {
    "collapsed": false
   }
  },
  {
   "cell_type": "code",
   "execution_count": 2,
   "outputs": [
    {
     "data": {
      "text/plain": "                                                text  \\\n0  We were here yesterday for a bachelorette part...   \n1  4-stars for food, 2-stars for service.  I'm pr...   \n2  The store itself is so iconic, don't let the t...   \n3  every single dessert looked so yummy and tempt...   \n4  First time visit today, 12-27-21, when visitin...   \n\n                         reaction  encoded_reaction  \n0  satisfied considerable comment                 0  \n1  satisfied considerable comment                 0  \n2  satisfied considerable comment                 0  \n3  satisfied considerable comment                 0  \n4  satisfied considerable comment                 0  ",
      "text/html": "<div>\n<style scoped>\n    .dataframe tbody tr th:only-of-type {\n        vertical-align: middle;\n    }\n\n    .dataframe tbody tr th {\n        vertical-align: top;\n    }\n\n    .dataframe thead th {\n        text-align: right;\n    }\n</style>\n<table border=\"1\" class=\"dataframe\">\n  <thead>\n    <tr style=\"text-align: right;\">\n      <th></th>\n      <th>text</th>\n      <th>reaction</th>\n      <th>encoded_reaction</th>\n    </tr>\n  </thead>\n  <tbody>\n    <tr>\n      <th>0</th>\n      <td>We were here yesterday for a bachelorette part...</td>\n      <td>satisfied considerable comment</td>\n      <td>0</td>\n    </tr>\n    <tr>\n      <th>1</th>\n      <td>4-stars for food, 2-stars for service.  I'm pr...</td>\n      <td>satisfied considerable comment</td>\n      <td>0</td>\n    </tr>\n    <tr>\n      <th>2</th>\n      <td>The store itself is so iconic, don't let the t...</td>\n      <td>satisfied considerable comment</td>\n      <td>0</td>\n    </tr>\n    <tr>\n      <th>3</th>\n      <td>every single dessert looked so yummy and tempt...</td>\n      <td>satisfied considerable comment</td>\n      <td>0</td>\n    </tr>\n    <tr>\n      <th>4</th>\n      <td>First time visit today, 12-27-21, when visitin...</td>\n      <td>satisfied considerable comment</td>\n      <td>0</td>\n    </tr>\n  </tbody>\n</table>\n</div>"
     },
     "execution_count": 2,
     "metadata": {},
     "output_type": "execute_result"
    }
   ],
   "source": [
    "csv_file = \"resources/model1.csv\"\n",
    "df_balanced = pd.read_csv(csv_file)\n",
    "df_balanced.head()"
   ],
   "metadata": {
    "collapsed": false
   }
  },
  {
   "cell_type": "code",
   "execution_count": 3,
   "outputs": [
    {
     "name": "stdout",
     "output_type": "stream",
     "text": [
      "[name: \"/device:CPU:0\"\n",
      "device_type: \"CPU\"\n",
      "memory_limit: 268435456\n",
      "locality {\n",
      "}\n",
      "incarnation: 783582087494142310\n",
      "xla_global_id: -1\n",
      ", name: \"/device:GPU:0\"\n",
      "device_type: \"GPU\"\n",
      "memory_limit: 2241331200\n",
      "locality {\n",
      "  bus_id: 1\n",
      "  links {\n",
      "  }\n",
      "}\n",
      "incarnation: 6931044360095677776\n",
      "physical_device_desc: \"device: 0, name: NVIDIA GeForce GTX 1650, pci bus id: 0000:01:00.0, compute capability: 7.5\"\n",
      "xla_global_id: 416903419\n",
      "]\n"
     ]
    }
   ],
   "source": [
    "from tensorflow.python.client import device_lib\n",
    "print(device_lib.list_local_devices())"
   ],
   "metadata": {
    "collapsed": false
   }
  },
  {
   "cell_type": "code",
   "execution_count": 4,
   "outputs": [
    {
     "name": "stdout",
     "output_type": "stream",
     "text": [
      "True\n"
     ]
    }
   ],
   "source": [
    "print(tf.test.is_built_with_cuda())"
   ],
   "metadata": {
    "collapsed": false
   }
  },
  {
   "cell_type": "code",
   "execution_count": 5,
   "outputs": [
    {
     "data": {
      "text/plain": "180509    3\n1427      0\n155008    3\n82361     2\n51841     2\nName: encoded_reaction, dtype: int64"
     },
     "execution_count": 5,
     "metadata": {},
     "output_type": "execute_result"
    }
   ],
   "source": [
    "# Train Test Split\n",
    "\n",
    "X_train, X_test, y_train, y_test = train_test_split(df_balanced['text'], df_balanced['encoded_reaction'], stratify=df_balanced['encoded_reaction'])\n",
    "y_train.head(5)"
   ],
   "metadata": {
    "collapsed": false
   }
  },
  {
   "cell_type": "code",
   "execution_count": 6,
   "outputs": [
    {
     "name": "stdout",
     "output_type": "stream",
     "text": [
      "False\n"
     ]
    }
   ],
   "source": [
    "print(any(x is None or x.lower() == 'nan' for x in X_train))"
   ],
   "metadata": {
    "collapsed": false
   }
  },
  {
   "cell_type": "code",
   "execution_count": 7,
   "outputs": [
    {
     "name": "stdout",
     "output_type": "stream",
     "text": [
      "int64\n"
     ]
    }
   ],
   "source": [
    "print(y_train.dtype)"
   ],
   "metadata": {
    "collapsed": false
   }
  },
  {
   "cell_type": "code",
   "execution_count": 8,
   "outputs": [
    {
     "name": "stdout",
     "output_type": "stream",
     "text": [
      "(143538,)\n"
     ]
    }
   ],
   "source": [
    "print(y_train.shape)"
   ],
   "metadata": {
    "collapsed": false
   }
  },
  {
   "cell_type": "markdown",
   "source": [
    "## BERT encoding\n",
    "##### We are using BERT to encode our text data into 784 dimensions"
   ],
   "metadata": {
    "collapsed": false
   }
  },
  {
   "cell_type": "code",
   "execution_count": 9,
   "outputs": [],
   "source": [
    "# Importing BERT\n",
    "bert_preprocess = hub.KerasLayer(\"https://tfhub.dev/tensorflow/bert_en_uncased_preprocess/3\")\n",
    "bert_encoder = hub.KerasLayer(\"https://tfhub.dev/tensorflow/bert_en_uncased_L-12_H-768_A-12/4\")"
   ],
   "metadata": {
    "collapsed": false
   }
  },
  {
   "cell_type": "code",
   "execution_count": 10,
   "outputs": [],
   "source": [
    "# BERT function\n",
    "def embedding_generator(review):\n",
    "    preprocessed_review = bert_preprocess(review)\n",
    "    return bert_encoder(preprocessed_review)['pooled_output']"
   ],
   "metadata": {
    "collapsed": false
   }
  },
  {
   "cell_type": "markdown",
   "source": [
    "## Defining the models architecture\n",
    "##### Layers used are as below\n",
    "* Input Layer\n",
    "* Lambda Layer\n",
    "* Dropout Layer\n",
    "* Dense Layer"
   ],
   "metadata": {
    "collapsed": false
   }
  },
  {
   "cell_type": "code",
   "execution_count": 11,
   "outputs": [],
   "source": [
    "# Constructing layers\n",
    "# Input Layer\n",
    "review_input = tf.keras.layers.Input(shape=(), dtype=tf.string, name=\"input\")\n",
    "bert_out = embedding_generator(review_input)\n",
    "\n",
    "# Modify the output layer to add epsilon to predicted probabilities\n",
    "epsilon = 1e-7\n",
    "layer = tf.keras.layers.Lambda(lambda x: x + epsilon, name='add_epsilon')(bert_out)\n",
    "\n",
    "# Neural Network Layers\n",
    "num_classes = 4\n",
    "layer = tf.keras.layers.Dropout(0.1, name='dropout')(layer)\n",
    "layer = tf.keras.layers.Dense(num_classes, activation='softmax', name='output')(layer)\n",
    "\n",
    "# Final Model\n",
    "with tf.device('/GPU:0'):\n",
    "    model = tf.keras.Model(inputs=[review_input], outputs=[layer])"
   ],
   "metadata": {
    "collapsed": false
   }
  },
  {
   "cell_type": "code",
   "execution_count": 12,
   "outputs": [
    {
     "name": "stdout",
     "output_type": "stream",
     "text": [
      "Model: \"model\"\n",
      "__________________________________________________________________________________________________\n",
      " Layer (type)                   Output Shape         Param #     Connected to                     \n",
      "==================================================================================================\n",
      " input (InputLayer)             [(None,)]            0           []                               \n",
      "                                                                                                  \n",
      " keras_layer (KerasLayer)       {'input_type_ids':   0           ['input[0][0]']                  \n",
      "                                (None, 128),                                                      \n",
      "                                 'input_word_ids':                                                \n",
      "                                (None, 128),                                                      \n",
      "                                 'input_mask': (Non                                               \n",
      "                                e, 128)}                                                          \n",
      "                                                                                                  \n",
      " keras_layer_1 (KerasLayer)     {'sequence_output':  109482241   ['keras_layer[0][0]',            \n",
      "                                 (None, 128, 768),                'keras_layer[0][1]',            \n",
      "                                 'encoder_outputs':               'keras_layer[0][2]']            \n",
      "                                 [(None, 128, 768),                                               \n",
      "                                 (None, 128, 768),                                                \n",
      "                                 (None, 128, 768),                                                \n",
      "                                 (None, 128, 768),                                                \n",
      "                                 (None, 128, 768),                                                \n",
      "                                 (None, 128, 768),                                                \n",
      "                                 (None, 128, 768),                                                \n",
      "                                 (None, 128, 768),                                                \n",
      "                                 (None, 128, 768),                                                \n",
      "                                 (None, 128, 768),                                                \n",
      "                                 (None, 128, 768),                                                \n",
      "                                 (None, 128, 768)],                                               \n",
      "                                 'default': (None,                                                \n",
      "                                768),                                                             \n",
      "                                 'pooled_output': (                                               \n",
      "                                None, 768)}                                                       \n",
      "                                                                                                  \n",
      " add_epsilon (Lambda)           (None, 768)          0           ['keras_layer_1[0][13]']         \n",
      "                                                                                                  \n",
      " dropout (Dropout)              (None, 768)          0           ['add_epsilon[0][0]']            \n",
      "                                                                                                  \n",
      " output (Dense)                 (None, 4)            3076        ['dropout[0][0]']                \n",
      "                                                                                                  \n",
      "==================================================================================================\n",
      "Total params: 109,485,317\n",
      "Trainable params: 3,076\n",
      "Non-trainable params: 109,482,241\n",
      "__________________________________________________________________________________________________\n"
     ]
    }
   ],
   "source": [
    "model.summary()"
   ],
   "metadata": {
    "collapsed": false
   }
  },
  {
   "cell_type": "markdown",
   "source": [
    "##### Model compilation details\n",
    "* Optimizer - Adam\n",
    "* Loss Function - sparse categorical cross entropy"
   ],
   "metadata": {
    "collapsed": false
   }
  },
  {
   "cell_type": "code",
   "execution_count": 13,
   "outputs": [],
   "source": [
    "# Defining the matrices\n",
    "METRICS = [\n",
    "    tf.keras.metrics.SparseCategoricalAccuracy(name='accuracy')\n",
    "]\n",
    "\n",
    "# Create Adam optimizer with scheduled custom learning rate\n",
    "custom_learning_rate = 0.001\n",
    "lr_schedule = tf.keras.optimizers.schedules.ExponentialDecay(\n",
    "    initial_learning_rate=custom_learning_rate,\n",
    "    decay_steps=1000,\n",
    "    decay_rate=0.9,\n",
    "    staircase=True)\n",
    "\n",
    "custom_optimizer = tf.keras.optimizers.Adam(learning_rate=lr_schedule)\n",
    "\n",
    "model.compile(optimizer=custom_optimizer,\n",
    "              loss='sparse_categorical_crossentropy',\n",
    "              metrics=METRICS)"
   ],
   "metadata": {
    "collapsed": false
   }
  },
  {
   "cell_type": "markdown",
   "source": [
    "##### Model training"
   ],
   "metadata": {
    "collapsed": false
   }
  },
  {
   "cell_type": "code",
   "execution_count": 14,
   "outputs": [
    {
     "name": "stdout",
     "output_type": "stream",
     "text": [
      "Epoch 1/5\n",
      "8972/8972 [==============================] - 2563s 285ms/step - loss: 1.1798 - accuracy: 0.4185\n",
      "Epoch 2/5\n",
      "8972/8972 [==============================] - 2568s 286ms/step - loss: 1.1145 - accuracy: 0.4488\n",
      "Epoch 3/5\n",
      "8972/8972 [==============================] - 2581s 288ms/step - loss: 1.1047 - accuracy: 0.4554\n",
      "Epoch 4/5\n",
      "8972/8972 [==============================] - 2582s 288ms/step - loss: 1.1011 - accuracy: 0.4571\n",
      "Epoch 5/5\n",
      "8972/8972 [==============================] - 2613s 291ms/step - loss: 1.0977 - accuracy: 0.4607\n"
     ]
    }
   ],
   "source": [
    "# Training the model\n",
    "with tf.device('/GPU:0'):\n",
    "    model.fit(X_train, y_train, epochs=5, batch_size=16, shuffle=True)"
   ],
   "metadata": {
    "collapsed": false
   }
  },
  {
   "cell_type": "markdown",
   "source": [
    "## Model Evaluation\n",
    "##### To evaluate our model we have used below techniques,\n",
    "* Confusion Matrix\n",
    "* Classification report"
   ],
   "metadata": {
    "collapsed": false
   }
  },
  {
   "cell_type": "code",
   "execution_count": 15,
   "outputs": [
    {
     "name": "stdout",
     "output_type": "stream",
     "text": [
      "1496/1496 [==============================] - 963s 643ms/step - loss: 1.0704 - accuracy: 0.4755\n"
     ]
    },
    {
     "data": {
      "text/plain": "[1.0704271793365479, 0.47554653882980347]"
     },
     "execution_count": 15,
     "metadata": {},
     "output_type": "execute_result"
    }
   ],
   "source": [
    "model.evaluate(X_test, y_test)"
   ],
   "metadata": {
    "collapsed": false
   }
  },
  {
   "cell_type": "code",
   "execution_count": 17,
   "outputs": [
    {
     "name": "stdout",
     "output_type": "stream",
     "text": [
      "1496/1496 [==============================] - 951s 635ms/step\n"
     ]
    },
    {
     "data": {
      "text/plain": "<Figure size 640x480 with 2 Axes>",
      "image/png": "[encoded data removed]"
     },
     "metadata": {},
     "output_type": "display_data"
    }
   ],
   "source": [
    "y_pred = np.argmax(model.predict(X_test), axis=1)\n",
    "\n",
    "# Compute confusion matrix\n",
    "cm = confusion_matrix(y_test, y_pred)\n",
    "\n",
    "# Visualizing Confusion Matrix\n",
    "sn.heatmap(cm, annot=True, fmt='d', cmap='Blues', xticklabels=True, yticklabels=True)\n",
    "plt.xlabel('Predicted')\n",
    "plt.ylabel('True')\n",
    "plt.title('Confusion Matrix')\n",
    "plt.show()"
   ],
   "metadata": {
    "collapsed": false
   }
  },
  {
   "cell_type": "code",
   "execution_count": 18,
   "outputs": [
    {
     "name": "stdout",
     "output_type": "stream",
     "text": [
      "Classification Report:\n",
      "              precision    recall  f1-score   support\n",
      "\n",
      "           0       0.45      0.48      0.46     11962\n",
      "           1       0.48      0.42      0.45     11962\n",
      "           2       0.51      0.49      0.50     11961\n",
      "           3       0.47      0.51      0.49     11961\n",
      "\n",
      "    accuracy                           0.48     47846\n",
      "   macro avg       0.48      0.48      0.48     47846\n",
      "weighted avg       0.48      0.48      0.48     47846\n",
      "\n"
     ]
    }
   ],
   "source": [
    "# Classification Report\n",
    "classification_report = classification_report(y_test, y_pred)\n",
    "print(\"Classification Report:\")\n",
    "print(classification_report)"
   ],
   "metadata": {
    "collapsed": false
   }
  },
  {
   "cell_type": "code",
   "execution_count": 22,
   "outputs": [],
   "source": [
    "# Saving the model\n",
    "model.save('saved_models/model2.h5')"
   ],
   "metadata": {
    "collapsed": false
   }
  },
  {
   "cell_type": "code",
   "execution_count": 8,
   "outputs": [
    {
     "ename": "ValueError",
     "evalue": "Unknown layer: KerasLayer. Please ensure this object is passed to the `custom_objects` argument. See https://www.tensorflow.org/guide/keras/save_and_serialize#registering_the_custom_object for details.",
     "output_type": "error",
     "traceback": [
      "\u001B[1;31m---------------------------------------------------------------------------\u001B[0m",
      "\u001B[1;31mValueError\u001B[0m                                Traceback (most recent call last)",
      "Cell \u001B[1;32mIn[8], line 2\u001B[0m\n\u001B[0;32m      1\u001B[0m \u001B[38;5;66;03m# Load the saved model\u001B[39;00m\n\u001B[1;32m----> 2\u001B[0m loaded_model \u001B[38;5;241m=\u001B[39m \u001B[43mtf\u001B[49m\u001B[38;5;241;43m.\u001B[39;49m\u001B[43mkeras\u001B[49m\u001B[38;5;241;43m.\u001B[39;49m\u001B[43mmodels\u001B[49m\u001B[38;5;241;43m.\u001B[39;49m\u001B[43mload_model\u001B[49m\u001B[43m(\u001B[49m\u001B[38;5;124;43m'\u001B[39;49m\u001B[38;5;124;43msaved_models/model2.h5\u001B[39;49m\u001B[38;5;124;43m'\u001B[39;49m\u001B[43m)\u001B[49m\n\u001B[0;32m      4\u001B[0m \u001B[38;5;66;03m# Selecting 9 random indices from the test dataset\u001B[39;00m\n\u001B[0;32m      5\u001B[0m random_indices \u001B[38;5;241m=\u001B[39m np\u001B[38;5;241m.\u001B[39mrandom\u001B[38;5;241m.\u001B[39mchoice(\u001B[38;5;28mlen\u001B[39m(X_test), size\u001B[38;5;241m=\u001B[39m\u001B[38;5;241m9\u001B[39m, replace\u001B[38;5;241m=\u001B[39m\u001B[38;5;28;01mFalse\u001B[39;00m)\n",
      "File \u001B[1;32mC:\\Users\\workspace\\lib\\site-packages\\keras\\utils\\traceback_utils.py:70\u001B[0m, in \u001B[0;36mfilter_traceback.<locals>.error_handler\u001B[1;34m(*args, **kwargs)\u001B[0m\n\u001B[0;32m     67\u001B[0m     filtered_tb \u001B[38;5;241m=\u001B[39m _process_traceback_frames(e\u001B[38;5;241m.\u001B[39m__traceback__)\n\u001B[0;32m     68\u001B[0m     \u001B[38;5;66;03m# To get the full stack trace, call:\u001B[39;00m\n\u001B[0;32m     69\u001B[0m     \u001B[38;5;66;03m# `tf.debugging.disable_traceback_filtering()`\u001B[39;00m\n\u001B[1;32m---> 70\u001B[0m     \u001B[38;5;28;01mraise\u001B[39;00m e\u001B[38;5;241m.\u001B[39mwith_traceback(filtered_tb) \u001B[38;5;28;01mfrom\u001B[39;00m \u001B[38;5;28;01mNone\u001B[39;00m\n\u001B[0;32m     71\u001B[0m \u001B[38;5;28;01mfinally\u001B[39;00m:\n\u001B[0;32m     72\u001B[0m     \u001B[38;5;28;01mdel\u001B[39;00m filtered_tb\n",
      "File \u001B[1;32mC:\\Users\\workspace\\lib\\site-packages\\keras\\utils\\generic_utils.py:605\u001B[0m, in \u001B[0;36mclass_and_config_for_serialized_keras_object\u001B[1;34m(config, module_objects, custom_objects, printable_module_name)\u001B[0m\n\u001B[0;32m    603\u001B[0m \u001B[38;5;28mcls\u001B[39m \u001B[38;5;241m=\u001B[39m get_registered_object(class_name, custom_objects, module_objects)\n\u001B[0;32m    604\u001B[0m \u001B[38;5;28;01mif\u001B[39;00m \u001B[38;5;28mcls\u001B[39m \u001B[38;5;129;01mis\u001B[39;00m \u001B[38;5;28;01mNone\u001B[39;00m:\n\u001B[1;32m--> 605\u001B[0m     \u001B[38;5;28;01mraise\u001B[39;00m \u001B[38;5;167;01mValueError\u001B[39;00m(\n\u001B[0;32m    606\u001B[0m         \u001B[38;5;124mf\u001B[39m\u001B[38;5;124m\"\u001B[39m\u001B[38;5;124mUnknown \u001B[39m\u001B[38;5;132;01m{\u001B[39;00mprintable_module_name\u001B[38;5;132;01m}\u001B[39;00m\u001B[38;5;124m: \u001B[39m\u001B[38;5;132;01m{\u001B[39;00mclass_name\u001B[38;5;132;01m}\u001B[39;00m\u001B[38;5;124m. \u001B[39m\u001B[38;5;124m\"\u001B[39m\n\u001B[0;32m    607\u001B[0m         \u001B[38;5;124m\"\u001B[39m\u001B[38;5;124mPlease ensure this \u001B[39m\u001B[38;5;124m\"\u001B[39m\n\u001B[0;32m    608\u001B[0m         \u001B[38;5;124m\"\u001B[39m\u001B[38;5;124mobject is passed to the `custom_objects` argument. See \u001B[39m\u001B[38;5;124m\"\u001B[39m\n\u001B[0;32m    609\u001B[0m         \u001B[38;5;124m\"\u001B[39m\u001B[38;5;124mhttps://www.tensorflow.org/guide/keras/save_and_serialize\u001B[39m\u001B[38;5;124m\"\u001B[39m\n\u001B[0;32m    610\u001B[0m         \u001B[38;5;124m\"\u001B[39m\u001B[38;5;124m#registering_the_custom_object for details.\u001B[39m\u001B[38;5;124m\"\u001B[39m\n\u001B[0;32m    611\u001B[0m     )\n\u001B[0;32m    613\u001B[0m cls_config \u001B[38;5;241m=\u001B[39m config[\u001B[38;5;124m\"\u001B[39m\u001B[38;5;124mconfig\u001B[39m\u001B[38;5;124m\"\u001B[39m]\n\u001B[0;32m    614\u001B[0m \u001B[38;5;66;03m# Check if `cls_config` is a list. If it is a list, return the class and the\u001B[39;00m\n\u001B[0;32m    615\u001B[0m \u001B[38;5;66;03m# associated class configs for recursively deserialization. This case will\u001B[39;00m\n\u001B[0;32m    616\u001B[0m \u001B[38;5;66;03m# happen on the old version of sequential model (e.g. `keras_version` ==\u001B[39;00m\n\u001B[0;32m    617\u001B[0m \u001B[38;5;66;03m# \"2.0.6\"), which is serialized in a different structure, for example\u001B[39;00m\n\u001B[0;32m    618\u001B[0m \u001B[38;5;66;03m# \"{'class_name': 'Sequential',\u001B[39;00m\n\u001B[0;32m    619\u001B[0m \u001B[38;5;66;03m#   'config': [{'class_name': 'Embedding', 'config': ...}, {}, ...]}\".\u001B[39;00m\n",
      "\u001B[1;31mValueError\u001B[0m: Unknown layer: KerasLayer. Please ensure this object is passed to the `custom_objects` argument. See https://www.tensorflow.org/guide/keras/save_and_serialize#registering_the_custom_object for details."
     ]
    }
   ],
   "source": [
    "# Load the saved model\n",
    "loaded_model = tf.keras.models.load_model('saved_models/model2.h5')\n",
    "\n",
    "# Selecting 9 random indices from the test dataset\n",
    "random_indices = np.random.choice(len(X_test), size=9, replace=False)\n",
    "\n",
    "# Extract the subset of data\n",
    "X_subset = X_test[random_indices]\n",
    "y_subset = y_test[random_indices]\n",
    "\n",
    "# Evaluate the model on the subset\n",
    "results = model.evaluate(X_subset, y_subset, verbose=0)\n",
    "\n",
    "# Display the evaluation results\n",
    "print(f'Model Accuracy on Subset: {results[1]*100:.2f}%')"
   ],
   "metadata": {
    "collapsed": false
   }
  }
 ],
 "metadata": {
  "kernelspec": {
   "display_name": "Python 3",
   "language": "python",
   "name": "python3"
  },
  "language_info": {
   "codemirror_mode": {
    "name": "ipython",
    "version": 2
   },
   "file_extension": ".py",
   "mimetype": "text/x-python",
   "name": "python",
   "nbconvert_exporter": "python",
   "pygments_lexer": "ipython2",
   "version": "2.7.6"
  }
 },
 "nbformat": 4,
 "nbformat_minor": 0
}
