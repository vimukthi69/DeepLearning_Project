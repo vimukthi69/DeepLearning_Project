{
 "cells": [
  {
   "cell_type": "code",
   "execution_count": 1,
   "outputs": [],
   "source": [
    "import pandas as pd\n",
    "import matplotlib.pyplot as plt\n",
    "from sklearn.model_selection import train_test_split\n",
    "import tensorflow as tf\n",
    "import tensorflow_hub as hub\n",
    "from sklearn.metrics import classification_report, confusion_matrix\n",
    "import tensorflow_text as text\n",
    "import numpy as np\n",
    "import seaborn as sn"
   ],
   "metadata": {
    "collapsed": false
   }
  },
  {
   "cell_type": "code",
   "execution_count": 2,
   "outputs": [
    {
     "data": {
      "text/plain": "                                                text  \\\n0  I don't understand that kids have to take a sw...   \n1  The newest vessel in St. Elmo's fleet, they ha...   \n2  My husband and I were married on October 12th ...   \n3  I try to mention this tour company to every vi...   \n4  In our quest to find the best Indian luncheon ...   \n\n                         reaction  encoded_reaction  \n0  satisfied considerable comment                 0  \n1  satisfied considerable comment                 0  \n2  satisfied considerable comment                 0  \n3  satisfied considerable comment                 0  \n4  satisfied considerable comment                 0  ",
      "text/html": "<div>\n<style scoped>\n    .dataframe tbody tr th:only-of-type {\n        vertical-align: middle;\n    }\n\n    .dataframe tbody tr th {\n        vertical-align: top;\n    }\n\n    .dataframe thead th {\n        text-align: right;\n    }\n</style>\n<table border=\"1\" class=\"dataframe\">\n  <thead>\n    <tr style=\"text-align: right;\">\n      <th></th>\n      <th>text</th>\n      <th>reaction</th>\n      <th>encoded_reaction</th>\n    </tr>\n  </thead>\n  <tbody>\n    <tr>\n      <th>0</th>\n      <td>I don't understand that kids have to take a sw...</td>\n      <td>satisfied considerable comment</td>\n      <td>0</td>\n    </tr>\n    <tr>\n      <th>1</th>\n      <td>The newest vessel in St. Elmo's fleet, they ha...</td>\n      <td>satisfied considerable comment</td>\n      <td>0</td>\n    </tr>\n    <tr>\n      <th>2</th>\n      <td>My husband and I were married on October 12th ...</td>\n      <td>satisfied considerable comment</td>\n      <td>0</td>\n    </tr>\n    <tr>\n      <th>3</th>\n      <td>I try to mention this tour company to every vi...</td>\n      <td>satisfied considerable comment</td>\n      <td>0</td>\n    </tr>\n    <tr>\n      <th>4</th>\n      <td>In our quest to find the best Indian luncheon ...</td>\n      <td>satisfied considerable comment</td>\n      <td>0</td>\n    </tr>\n  </tbody>\n</table>\n</div>"
     },
     "execution_count": 2,
     "metadata": {},
     "output_type": "execute_result"
    }
   ],
   "source": [
    "csv_file = \"resources/model2.csv\"\n",
    "df_balanced = pd.read_csv(csv_file)\n",
    "df_balanced.head()"
   ],
   "metadata": {
    "collapsed": false
   }
  },
  {
   "cell_type": "code",
   "execution_count": 3,
   "outputs": [
    {
     "name": "stdout",
     "output_type": "stream",
     "text": [
      "[name: \"/device:CPU:0\"\n",
      "device_type: \"CPU\"\n",
      "memory_limit: 268435456\n",
      "locality {\n",
      "}\n",
      "incarnation: 17543128902377726172\n",
      "xla_global_id: -1\n",
      ", name: \"/device:GPU:0\"\n",
      "device_type: \"GPU\"\n",
      "memory_limit: 2241331200\n",
      "locality {\n",
      "  bus_id: 1\n",
      "  links {\n",
      "  }\n",
      "}\n",
      "incarnation: 8853773070378592742\n",
      "physical_device_desc: \"device: 0, name: NVIDIA GeForce GTX 1650, pci bus id: 0000:01:00.0, compute capability: 7.5\"\n",
      "xla_global_id: 416903419\n",
      "]\n"
     ]
    }
   ],
   "source": [
    "from tensorflow.python.client import device_lib\n",
    "print(device_lib.list_local_devices())"
   ],
   "metadata": {
    "collapsed": false
   }
  },
  {
   "cell_type": "code",
   "execution_count": 4,
   "outputs": [
    {
     "name": "stdout",
     "output_type": "stream",
     "text": [
      "True\n"
     ]
    }
   ],
   "source": [
    "print(tf.test.is_built_with_cuda())"
   ],
   "metadata": {
    "collapsed": false
   }
  },
  {
   "cell_type": "code",
   "execution_count": 5,
   "outputs": [
    {
     "data": {
      "text/plain": "23909    3\n25928    3\n24400    3\n25318    3\n6820     0\nName: encoded_reaction, dtype: int64"
     },
     "execution_count": 5,
     "metadata": {},
     "output_type": "execute_result"
    }
   ],
   "source": [
    "# Train Test Split\n",
    "\n",
    "X_train, X_test, y_train, y_test = train_test_split(df_balanced['text'], df_balanced['encoded_reaction'], stratify=df_balanced['encoded_reaction'])\n",
    "y_train.head(5)"
   ],
   "metadata": {
    "collapsed": false
   }
  },
  {
   "cell_type": "code",
   "execution_count": 6,
   "outputs": [
    {
     "name": "stdout",
     "output_type": "stream",
     "text": [
      "False\n"
     ]
    }
   ],
   "source": [
    "print(any(x is None or x.lower() == 'nan' for x in X_train))"
   ],
   "metadata": {
    "collapsed": false
   }
  },
  {
   "cell_type": "code",
   "execution_count": 9,
   "outputs": [
    {
     "name": "stdout",
     "output_type": "stream",
     "text": [
      "int64\n"
     ]
    }
   ],
   "source": [
    "print(y_train.dtype)"
   ],
   "metadata": {
    "collapsed": false
   }
  },
  {
   "cell_type": "code",
   "execution_count": 10,
   "outputs": [
    {
     "name": "stdout",
     "output_type": "stream",
     "text": [
      "(23079,)\n"
     ]
    }
   ],
   "source": [
    "print(y_train.shape)"
   ],
   "metadata": {
    "collapsed": false
   }
  },
  {
   "cell_type": "code",
   "execution_count": 7,
   "outputs": [],
   "source": [
    "# Importing BERT\n",
    "bert_preprocess = hub.KerasLayer(\"https://tfhub.dev/tensorflow/bert_en_uncased_preprocess/3\")\n",
    "bert_encoder = hub.KerasLayer(\"https://tfhub.dev/tensorflow/bert_en_uncased_L-12_H-768_A-12/4\")"
   ],
   "metadata": {
    "collapsed": false
   }
  },
  {
   "cell_type": "code",
   "execution_count": 8,
   "outputs": [],
   "source": [
    "# BERT function\n",
    "def embedding_generator(review):\n",
    "    preprocessed_review = bert_preprocess(review)\n",
    "    return bert_encoder(preprocessed_review)['pooled_output']"
   ],
   "metadata": {
    "collapsed": false
   }
  },
  {
   "cell_type": "code",
   "execution_count": 16,
   "outputs": [],
   "source": [
    "# Constructing layers\n",
    "# Input Layer\n",
    "review_input = tf.keras.layers.Input(shape=(), dtype=tf.string, name=\"input\")\n",
    "bert_out = embedding_generator(review_input)\n",
    "\n",
    "# Modify the output layer to add epsilon to predicted probabilities\n",
    "epsilon = 1e-7\n",
    "layer = tf.keras.layers.Lambda(lambda x: x + epsilon, name='add_epsilon')(bert_out)\n",
    "\n",
    "# Neural Network Layers\n",
    "num_classes = 4\n",
    "layer = tf.keras.layers.Dropout(0.1, name='dropout')(layer)\n",
    "layer = tf.keras.layers.Dense(num_classes, activation='softmax', name='output')(layer)\n",
    "\n",
    "# Final Model\n",
    "with tf.device('/GPU:0'):\n",
    "    model = tf.keras.Model(inputs=[review_input], outputs=[layer])"
   ],
   "metadata": {
    "collapsed": false
   }
  },
  {
   "cell_type": "code",
   "execution_count": 17,
   "outputs": [
    {
     "name": "stdout",
     "output_type": "stream",
     "text": [
      "Model: \"model_1\"\n",
      "__________________________________________________________________________________________________\n",
      " Layer (type)                   Output Shape         Param #     Connected to                     \n",
      "==================================================================================================\n",
      " input (InputLayer)             [(None,)]            0           []                               \n",
      "                                                                                                  \n",
      " keras_layer (KerasLayer)       {'input_word_ids':   0           ['input[0][0]']                  \n",
      "                                (None, 128),                                                      \n",
      "                                 'input_type_ids':                                                \n",
      "                                (None, 128),                                                      \n",
      "                                 'input_mask': (Non                                               \n",
      "                                e, 128)}                                                          \n",
      "                                                                                                  \n",
      " keras_layer_1 (KerasLayer)     {'default': (None,   109482241   ['keras_layer[1][0]',            \n",
      "                                768),                             'keras_layer[1][1]',            \n",
      "                                 'pooled_output': (               'keras_layer[1][2]']            \n",
      "                                None, 768),                                                       \n",
      "                                 'encoder_outputs':                                               \n",
      "                                 [(None, 128, 768),                                               \n",
      "                                 (None, 128, 768),                                                \n",
      "                                 (None, 128, 768),                                                \n",
      "                                 (None, 128, 768),                                                \n",
      "                                 (None, 128, 768),                                                \n",
      "                                 (None, 128, 768),                                                \n",
      "                                 (None, 128, 768),                                                \n",
      "                                 (None, 128, 768),                                                \n",
      "                                 (None, 128, 768),                                                \n",
      "                                 (None, 128, 768),                                                \n",
      "                                 (None, 128, 768),                                                \n",
      "                                 (None, 128, 768)],                                               \n",
      "                                 'sequence_output':                                               \n",
      "                                 (None, 128, 768)}                                                \n",
      "                                                                                                  \n",
      " add_epsilon (Lambda)           (None, 768)          0           ['keras_layer_1[1][13]']         \n",
      "                                                                                                  \n",
      " dropout (Dropout)              (None, 768)          0           ['add_epsilon[0][0]']            \n",
      "                                                                                                  \n",
      " output (Dense)                 (None, 4)            3076        ['dropout[0][0]']                \n",
      "                                                                                                  \n",
      "==================================================================================================\n",
      "Total params: 109,485,317\n",
      "Trainable params: 3,076\n",
      "Non-trainable params: 109,482,241\n",
      "__________________________________________________________________________________________________\n"
     ]
    }
   ],
   "source": [
    "model.summary()"
   ],
   "metadata": {
    "collapsed": false
   }
  },
  {
   "cell_type": "code",
   "execution_count": 18,
   "outputs": [],
   "source": [
    "METRICS = [\n",
    "    tf.keras.metrics.SparseCategoricalAccuracy(name='accuracy')\n",
    "]\n",
    "\n",
    "# Create Adam optimizer with scheduled custom learning rate\n",
    "custom_learning_rate = 0.001\n",
    "lr_schedule = tf.keras.optimizers.schedules.ExponentialDecay(\n",
    "    initial_learning_rate=custom_learning_rate,\n",
    "    decay_steps=1000,\n",
    "    decay_rate=0.9,\n",
    "    staircase=True)\n",
    "\n",
    "custom_optimizer = tf.keras.optimizers.Adam(learning_rate=lr_schedule)\n",
    "\n",
    "model.compile(optimizer=custom_optimizer,\n",
    "              loss='sparse_categorical_crossentropy',\n",
    "              metrics=METRICS)"
   ],
   "metadata": {
    "collapsed": false
   }
  },
  {
   "cell_type": "code",
   "execution_count": 19,
   "outputs": [
    {
     "name": "stdout",
     "output_type": "stream",
     "text": [
      "Epoch 1/10\n",
      "1443/1443 [==============================] - 413s 284ms/step - loss: 1.3042 - accuracy: 0.3629\n",
      "Epoch 2/10\n",
      "1443/1443 [==============================] - 412s 286ms/step - loss: 1.2102 - accuracy: 0.4101\n",
      "Epoch 3/10\n",
      "1443/1443 [==============================] - 412s 285ms/step - loss: 1.1721 - accuracy: 0.4290\n",
      "Epoch 4/10\n",
      "1443/1443 [==============================] - 411s 285ms/step - loss: 1.1580 - accuracy: 0.4285\n",
      "Epoch 5/10\n",
      "1443/1443 [==============================] - 412s 285ms/step - loss: 1.1428 - accuracy: 0.4399\n",
      "Epoch 6/10\n",
      "1443/1443 [==============================] - 411s 285ms/step - loss: 1.1381 - accuracy: 0.4407\n",
      "Epoch 7/10\n",
      "1443/1443 [==============================] - 412s 285ms/step - loss: 1.1307 - accuracy: 0.4418\n",
      "Epoch 8/10\n",
      "1443/1443 [==============================] - 411s 285ms/step - loss: 1.1266 - accuracy: 0.4454\n",
      "Epoch 9/10\n",
      "1443/1443 [==============================] - 411s 285ms/step - loss: 1.1192 - accuracy: 0.4518\n",
      "Epoch 10/10\n",
      "1443/1443 [==============================] - 410s 284ms/step - loss: 1.1204 - accuracy: 0.4520\n"
     ]
    }
   ],
   "source": [
    "with tf.device('/GPU:0'):\n",
    "    model.fit(X_train, y_train, epochs=10, batch_size=16, shuffle=True)"
   ],
   "metadata": {
    "collapsed": false
   }
  },
  {
   "cell_type": "code",
   "execution_count": 20,
   "outputs": [
    {
     "name": "stdout",
     "output_type": "stream",
     "text": [
      "241/241 [==============================] - 205s 828ms/step - loss: 1.0935 - accuracy: 0.4635\n"
     ]
    },
    {
     "data": {
      "text/plain": "[1.0934562683105469, 0.4635382890701294]"
     },
     "execution_count": 20,
     "metadata": {},
     "output_type": "execute_result"
    }
   ],
   "source": [
    "model.evaluate(X_test, y_test)"
   ],
   "metadata": {
    "collapsed": false
   }
  },
  {
   "cell_type": "code",
   "execution_count": 21,
   "outputs": [
    {
     "name": "stdout",
     "output_type": "stream",
     "text": [
      "241/241 [==============================] - 205s 837ms/step\n"
     ]
    },
    {
     "data": {
      "text/plain": "<Figure size 640x480 with 2 Axes>",
      "image/png": "[encoded data removed]"
     },
     "metadata": {},
     "output_type": "display_data"
    }
   ],
   "source": [
    "y_pred = np.argmax(model.predict(X_test), axis=1)\n",
    "\n",
    "# Compute confusion matrix\n",
    "cm = confusion_matrix(y_test, y_pred)\n",
    "\n",
    "# Visualizing Confusion Matrix\n",
    "sn.heatmap(cm, annot=True, fmt='d', cmap='Blues', xticklabels=True, yticklabels=True)\n",
    "plt.xlabel('Predicted')\n",
    "plt.ylabel('True')\n",
    "plt.title('Confusion Matrix')\n",
    "plt.show()"
   ],
   "metadata": {
    "collapsed": false
   }
  },
  {
   "cell_type": "code",
   "execution_count": 22,
   "outputs": [
    {
     "name": "stdout",
     "output_type": "stream",
     "text": [
      "Classification Report:\n",
      "              precision    recall  f1-score   support\n",
      "\n",
      "           0       0.46      0.38      0.42      1924\n",
      "           1       0.47      0.44      0.46      1923\n",
      "           2       0.47      0.51      0.49      1923\n",
      "           3       0.45      0.52      0.48      1923\n",
      "\n",
      "    accuracy                           0.46      7693\n",
      "   macro avg       0.46      0.46      0.46      7693\n",
      "weighted avg       0.46      0.46      0.46      7693\n",
      "\n"
     ]
    }
   ],
   "source": [
    "# Classification Report\n",
    "classification_report = classification_report(y_test, y_pred)\n",
    "print(\"Classification Report:\")\n",
    "print(classification_report)"
   ],
   "metadata": {
    "collapsed": false
   }
  }
 ],
 "metadata": {
  "kernelspec": {
   "display_name": "Python 3",
   "language": "python",
   "name": "python3"
  },
  "language_info": {
   "codemirror_mode": {
    "name": "ipython",
    "version": 2
   },
   "file_extension": ".py",
   "mimetype": "text/x-python",
   "name": "python",
   "nbconvert_exporter": "python",
   "pygments_lexer": "ipython2",
   "version": "2.7.6"
  }
 },
 "nbformat": 4,
 "nbformat_minor": 0
}
