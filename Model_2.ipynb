{
 "cells": [
  {
   "cell_type": "code",
   "execution_count": 19,
   "outputs": [],
   "source": [
    "import pandas as pd\n",
    "import matplotlib.pyplot as plt\n",
    "from sklearn.model_selection import train_test_split\n",
    "import tensorflow as tf\n",
    "import tensorflow_hub as hub\n",
    "from sklearn.metrics import classification_report, confusion_matrix\n",
    "import numpy as np\n",
    "import seaborn as sn"
   ],
   "metadata": {
    "collapsed": false
   }
  },
  {
   "cell_type": "code",
   "execution_count": 12,
   "outputs": [
    {
     "data": {
      "text/plain": "                                                text  \\\n0  I don't understand that kids have to take a sw...   \n1  The newest vessel in St. Elmo's fleet, they ha...   \n2  My husband and I were married on October 12th ...   \n3  I try to mention this tour company to every vi...   \n4  In our quest to find the best Indian luncheon ...   \n\n                         reaction  encoded_reaction  \n0  satisfied considerable comment                 0  \n1  satisfied considerable comment                 0  \n2  satisfied considerable comment                 0  \n3  satisfied considerable comment                 0  \n4  satisfied considerable comment                 0  ",
      "text/html": "<div>\n<style scoped>\n    .dataframe tbody tr th:only-of-type {\n        vertical-align: middle;\n    }\n\n    .dataframe tbody tr th {\n        vertical-align: top;\n    }\n\n    .dataframe thead th {\n        text-align: right;\n    }\n</style>\n<table border=\"1\" class=\"dataframe\">\n  <thead>\n    <tr style=\"text-align: right;\">\n      <th></th>\n      <th>text</th>\n      <th>reaction</th>\n      <th>encoded_reaction</th>\n    </tr>\n  </thead>\n  <tbody>\n    <tr>\n      <th>0</th>\n      <td>I don't understand that kids have to take a sw...</td>\n      <td>satisfied considerable comment</td>\n      <td>0</td>\n    </tr>\n    <tr>\n      <th>1</th>\n      <td>The newest vessel in St. Elmo's fleet, they ha...</td>\n      <td>satisfied considerable comment</td>\n      <td>0</td>\n    </tr>\n    <tr>\n      <th>2</th>\n      <td>My husband and I were married on October 12th ...</td>\n      <td>satisfied considerable comment</td>\n      <td>0</td>\n    </tr>\n    <tr>\n      <th>3</th>\n      <td>I try to mention this tour company to every vi...</td>\n      <td>satisfied considerable comment</td>\n      <td>0</td>\n    </tr>\n    <tr>\n      <th>4</th>\n      <td>In our quest to find the best Indian luncheon ...</td>\n      <td>satisfied considerable comment</td>\n      <td>0</td>\n    </tr>\n  </tbody>\n</table>\n</div>"
     },
     "execution_count": 12,
     "metadata": {},
     "output_type": "execute_result"
    }
   ],
   "source": [
    "csv_file = \"resources/model2.csv\"\n",
    "df_balanced = pd.read_csv(csv_file)\n",
    "df_balanced.head()"
   ],
   "metadata": {
    "collapsed": false
   }
  },
  {
   "cell_type": "code",
   "execution_count": 3,
   "outputs": [
    {
     "data": {
      "text/plain": "26119    3\n19301    1\n19113    1\n16446    1\n11163    2\nName: encoded_reaction, dtype: int64"
     },
     "execution_count": 3,
     "metadata": {},
     "output_type": "execute_result"
    }
   ],
   "source": [
    "# Train Test Split\n",
    "\n",
    "X_train, X_test, y_train, y_test = train_test_split(df_balanced['text'], df_balanced['encoded_reaction'], stratify=df_balanced['encoded_reaction'])\n",
    "y_train.head(5)"
   ],
   "metadata": {
    "collapsed": false
   }
  },
  {
   "cell_type": "code",
   "execution_count": 4,
   "outputs": [],
   "source": [
    "# Importing BERT\n",
    "bert_preprocess = hub.KerasLayer(\"https://tfhub.dev/tensorflow/bert_en_uncased_preprocess/3\")\n",
    "bert_encoder = hub.KerasLayer(\"https://tfhub.dev/tensorflow/bert_en_uncased_L-12_H-768_A-12/4\")"
   ],
   "metadata": {
    "collapsed": false
   }
  },
  {
   "cell_type": "code",
   "execution_count": 5,
   "outputs": [],
   "source": [
    "# BERT function\n",
    "def embedding_generator(review):\n",
    "    preprocessed_review = bert_preprocess(review)\n",
    "    return bert_encoder(preprocessed_review)['pooled_output']"
   ],
   "metadata": {
    "collapsed": false
   }
  },
  {
   "cell_type": "code",
   "execution_count": 8,
   "outputs": [],
   "source": [
    "# Constructing layers\n",
    "# Input Layer\n",
    "review_input = tf.keras.layers.Input(shape=(), dtype=tf.string, name=\"input\")\n",
    "bert_out = embedding_generator(review_input)\n",
    "\n",
    "# Neural Network Layers\n",
    "num_classes = 4\n",
    "layer = tf.keras.layers.Dropout(0.1, name='dropout')(bert_out)\n",
    "layer = tf.keras.layers.Dense(num_classes, activation='softmax', name='output')(layer)\n",
    "\n",
    "# Final Model\n",
    "model = tf.keras.Model(inputs=[review_input], outputs=[layer])"
   ],
   "metadata": {
    "collapsed": false
   }
  },
  {
   "cell_type": "code",
   "execution_count": 9,
   "outputs": [
    {
     "name": "stdout",
     "output_type": "stream",
     "text": [
      "Model: \"model_1\"\n",
      "__________________________________________________________________________________________________\n",
      " Layer (type)                   Output Shape         Param #     Connected to                     \n",
      "==================================================================================================\n",
      " input (InputLayer)             [(None,)]            0           []                               \n",
      "                                                                                                  \n",
      " keras_layer (KerasLayer)       {'input_word_ids':   0           ['input[0][0]']                  \n",
      "                                (None, 128),                                                      \n",
      "                                 'input_type_ids':                                                \n",
      "                                (None, 128),                                                      \n",
      "                                 'input_mask': (Non                                               \n",
      "                                e, 128)}                                                          \n",
      "                                                                                                  \n",
      " keras_layer_1 (KerasLayer)     {'sequence_output':  109482241   ['keras_layer[1][0]',            \n",
      "                                 (None, 128, 768),                'keras_layer[1][1]',            \n",
      "                                 'pooled_output': (               'keras_layer[1][2]']            \n",
      "                                None, 768),                                                       \n",
      "                                 'default': (None,                                                \n",
      "                                768),                                                             \n",
      "                                 'encoder_outputs':                                               \n",
      "                                 [(None, 128, 768),                                               \n",
      "                                 (None, 128, 768),                                                \n",
      "                                 (None, 128, 768),                                                \n",
      "                                 (None, 128, 768),                                                \n",
      "                                 (None, 128, 768),                                                \n",
      "                                 (None, 128, 768),                                                \n",
      "                                 (None, 128, 768),                                                \n",
      "                                 (None, 128, 768),                                                \n",
      "                                 (None, 128, 768),                                                \n",
      "                                 (None, 128, 768),                                                \n",
      "                                 (None, 128, 768),                                                \n",
      "                                 (None, 128, 768)]}                                               \n",
      "                                                                                                  \n",
      " dropout (Dropout)              (None, 768)          0           ['keras_layer_1[1][13]']         \n",
      "                                                                                                  \n",
      " output (Dense)                 (None, 4)            3076        ['dropout[0][0]']                \n",
      "                                                                                                  \n",
      "==================================================================================================\n",
      "Total params: 109,485,317\n",
      "Trainable params: 3,076\n",
      "Non-trainable params: 109,482,241\n",
      "__________________________________________________________________________________________________\n"
     ]
    }
   ],
   "source": [
    "model.summary()"
   ],
   "metadata": {
    "collapsed": false
   }
  },
  {
   "cell_type": "code",
   "execution_count": 14,
   "outputs": [],
   "source": [
    "METRICS = [\n",
    "    tf.keras.metrics.SparseCategoricalAccuracy(name='accuracy')\n",
    "]\n",
    "\n",
    "model.compile(optimizer='adam',\n",
    "              loss='sparse_categorical_crossentropy',\n",
    "              metrics=METRICS)"
   ],
   "metadata": {
    "collapsed": false
   }
  },
  {
   "cell_type": "code",
   "execution_count": 15,
   "outputs": [
    {
     "name": "stdout",
     "output_type": "stream",
     "text": [
      "Epoch 1/5\n",
      "722/722 [==============================] - 459s 630ms/step - loss: 1.3117 - accuracy: 0.3626\n",
      "Epoch 2/5\n",
      "722/722 [==============================] - 455s 630ms/step - loss: 1.2167 - accuracy: 0.4031\n",
      "Epoch 3/5\n",
      "722/722 [==============================] - 455s 630ms/step - loss: 1.1916 - accuracy: 0.4191\n",
      "Epoch 4/5\n",
      "722/722 [==============================] - 457s 633ms/step - loss: 1.1661 - accuracy: 0.4311\n",
      "Epoch 5/5\n",
      "722/722 [==============================] - 460s 637ms/step - loss: 1.1563 - accuracy: 0.4333\n"
     ]
    },
    {
     "data": {
      "text/plain": "<keras.callbacks.History at 0x25ebaed7130>"
     },
     "execution_count": 15,
     "metadata": {},
     "output_type": "execute_result"
    }
   ],
   "source": [
    "model.fit(X_train, y_train, epochs=5)"
   ],
   "metadata": {
    "collapsed": false
   }
  },
  {
   "cell_type": "code",
   "execution_count": 16,
   "outputs": [
    {
     "name": "stdout",
     "output_type": "stream",
     "text": [
      "241/241 [==============================] - 154s 630ms/step - loss: 1.1518 - accuracy: 0.4344\n"
     ]
    },
    {
     "data": {
      "text/plain": "[1.1518110036849976, 0.4344209134578705]"
     },
     "execution_count": 16,
     "metadata": {},
     "output_type": "execute_result"
    }
   ],
   "source": [
    "model.evaluate(X_test, y_test)"
   ],
   "metadata": {
    "collapsed": false
   }
  },
  {
   "cell_type": "code",
   "execution_count": 20,
   "outputs": [
    {
     "name": "stdout",
     "output_type": "stream",
     "text": [
      "241/241 [==============================] - 150s 623ms/step\n"
     ]
    },
    {
     "data": {
      "text/plain": "<Figure size 640x480 with 2 Axes>",
      "image/png": "[encoded data removed]"
     },
     "metadata": {},
     "output_type": "display_data"
    }
   ],
   "source": [
    "y_pred = np.argmax(model.predict(X_test), axis=1)\n",
    "\n",
    "# Compute confusion matrix\n",
    "cm = confusion_matrix(y_test, y_pred)\n",
    "\n",
    "# Visualizing Confusion Matrix\n",
    "sn.heatmap(cm, annot=True, fmt='d', cmap='Blues', xticklabels=True, yticklabels=True)\n",
    "plt.xlabel('Predicted')\n",
    "plt.ylabel('True')\n",
    "plt.title('Confusion Matrix')\n",
    "plt.show()"
   ],
   "metadata": {
    "collapsed": false
   }
  },
  {
   "cell_type": "code",
   "execution_count": 21,
   "outputs": [
    {
     "name": "stdout",
     "output_type": "stream",
     "text": [
      "Classification Report:\n",
      "              precision    recall  f1-score   support\n",
      "\n",
      "           0       0.38      0.00      0.01      1923\n",
      "           1       0.39      0.85      0.53      1923\n",
      "           2       0.54      0.39      0.45      1923\n",
      "           3       0.46      0.49      0.48      1924\n",
      "\n",
      "    accuracy                           0.43      7693\n",
      "   macro avg       0.44      0.43      0.37      7693\n",
      "weighted avg       0.44      0.43      0.37      7693\n",
      "\n"
     ]
    }
   ],
   "source": [
    "# Classification Report\n",
    "classification_report = classification_report(y_test, y_pred)\n",
    "print(\"Classification Report:\")\n",
    "print(classification_report)"
   ],
   "metadata": {
    "collapsed": false
   }
  }
 ],
 "metadata": {
  "kernelspec": {
   "display_name": "Python 3",
   "language": "python",
   "name": "python3"
  },
  "language_info": {
   "codemirror_mode": {
    "name": "ipython",
    "version": 2
   },
   "file_extension": ".py",
   "mimetype": "text/x-python",
   "name": "python",
   "nbconvert_exporter": "python",
   "pygments_lexer": "ipython2",
   "version": "2.7.6"
  }
 },
 "nbformat": 4,
 "nbformat_minor": 0
}
